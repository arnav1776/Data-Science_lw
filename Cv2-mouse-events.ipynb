{
 "cells": [
  {
   "cell_type": "code",
   "execution_count": 1,
   "metadata": {},
   "outputs": [],
   "source": [
    "# events and call back"
   ]
  },
  {
   "cell_type": "code",
   "execution_count": 1,
   "metadata": {},
   "outputs": [],
   "source": [
    "import cv2"
   ]
  },
  {
   "cell_type": "code",
   "execution_count": 3,
   "metadata": {},
   "outputs": [],
   "source": [
    "cap = cv2.VideoCapture(0)"
   ]
  },
  {
   "cell_type": "code",
   "execution_count": 4,
   "metadata": {},
   "outputs": [],
   "source": [
    "ret , photo = cap.read()"
   ]
  },
  {
   "cell_type": "code",
   "execution_count": null,
   "metadata": {},
   "outputs": [],
   "source": [
    "def lw(event , x , y, i,j):\n",
    "    if event == cv2.EVENT_LBUTTONDOWN:\n",
    "        print(\"x :\", x , \"y :\" , y)\n",
    "        cv2.circle(photo , (x,y) , 50 , [0,255,0], -1 )\n",
    "    \n",
    "    \n",
    "\n",
    "#cv2.imshow(photo)\n",
    "cv2.namedWindow(winname=\"mywin1\")\n",
    "\n",
    "cv2.setMouseCallback( \"mywin1\" , lw  )\n",
    "\n",
    "while True:\n",
    "    cv2.imshow(\"mywin1\" , photo)\n",
    "    if cv2.waitKey(100) == 13:\n",
    "        break\n",
    "        \n",
    "cv2.destroyAllWindows()"
   ]
  },
  {
   "cell_type": "code",
   "execution_count": null,
   "metadata": {},
   "outputs": [],
   "source": [
    "cv2.EVENT_MBUTTONDOWN"
   ]
  },
  {
   "cell_type": "code",
   "execution_count": 5,
   "metadata": {},
   "outputs": [],
   "source": [
    "nphoto =  photo.copy()"
   ]
  },
  {
   "cell_type": "code",
   "execution_count": 6,
   "metadata": {},
   "outputs": [],
   "source": [
    "cphoto = cv2.circle(nphoto , (150,150) , 50 , [0,255,0], -1 )"
   ]
  },
  {
   "cell_type": "code",
   "execution_count": 7,
   "metadata": {},
   "outputs": [],
   "source": [
    "cv2.imshow(\"mywin1\" , cphoto)\n",
    "cv2.waitKey()\n",
    "cv2.destroyAllWindows()"
   ]
  },
  {
   "cell_type": "code",
   "execution_count": null,
   "metadata": {},
   "outputs": [],
   "source": [
    "def lw(event , x , y, i,j):\n",
    "    if event == cv2.EVENT_LBUTTONDOWN:\n",
    "        print(x,y)\n",
    "        if event == cv2.EVENT_MOUSEMOVE:\n",
    "            print(\"x :\", x , \"y :\" , y)\n",
    "            cv2.circle(photo , (x,y) , 1 , [0,255,0], -1 )\n",
    "        \n",
    "    \n",
    "\n",
    "#cv2.imshow(photo)\n",
    "cv2.namedWindow(winname=\"mywin1\")\n",
    "\n",
    "cv2.setMouseCallback( \"mywin1\" , lw  )\n",
    "\n",
    "while True:\n",
    "    cv2.imshow(\"mywin1\" , photo)\n",
    "    if cv2.waitKey(100) == 13:\n",
    "        break\n",
    "        \n",
    "cv2.destroyAllWindows()"
   ]
  },
  {
   "cell_type": "code",
   "execution_count": null,
   "metadata": {},
   "outputs": [],
   "source": []
  }
 ],
 "metadata": {
  "kernelspec": {
   "display_name": "Python 3",
   "language": "python",
   "name": "python3"
  },
  "language_info": {
   "codemirror_mode": {
    "name": "ipython",
    "version": 3
   },
   "file_extension": ".py",
   "mimetype": "text/x-python",
   "name": "python",
   "nbconvert_exporter": "python",
   "pygments_lexer": "ipython3",
   "version": "3.8.5"
  }
 },
 "nbformat": 4,
 "nbformat_minor": 4
}
